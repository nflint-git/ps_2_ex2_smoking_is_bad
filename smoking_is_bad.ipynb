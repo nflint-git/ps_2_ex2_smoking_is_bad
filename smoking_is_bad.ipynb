{
 "cells": [
  {
   "cell_type": "markdown",
   "metadata": {},
   "source": [
    "# Smoking is bad"
   ]
  },
  {
   "cell_type": "code",
   "execution_count": null,
   "metadata": {},
   "outputs": [],
   "source": [
    "# TODO: install all the necessary packages\n",
    "import pandas as pd\n",
    "import matplotlib.pyplot as pl\n",
    "from pathlib import Path\n",
    "import numpy as np"
   ]
  },
  {
   "cell_type": "code",
   "execution_count": null,
   "metadata": {},
   "outputs": [],
   "source": [
    "# TODO: load the data using the pathlib library to create the path to your data\n",
    "path = Path.cwd() / \"data\" / \"smoking_data.csv\"\n",
    "df = pd.read_csv(path, index_col= 0) #for some reason the function was generating a new index, so used the original\n",
    "df"
   ]
  },
  {
   "cell_type": "code",
   "execution_count": null,
   "metadata": {},
   "outputs": [],
   "source": [
    "# TODO: what are the dimensions of the data frame?\n",
    "df.shape"
   ]
  },
  {
   "cell_type": "code",
   "execution_count": null,
   "metadata": {},
   "outputs": [],
   "source": [
    "# TODO: use .describe() on your data frame: what do you notice about the string columns?\n",
    "df.describe()\n",
    "# the string columns are not described since the describe function reports summary statistics for numerical types"
   ]
  },
  {
   "cell_type": "code",
   "execution_count": null,
   "metadata": {},
   "outputs": [],
   "source": [
    "# TODO: do not forget to check the null values\n",
    "df.isnull().sum()"
   ]
  },
  {
   "cell_type": "code",
   "execution_count": null,
   "metadata": {},
   "outputs": [],
   "source": [
    "# TODO: prepare your data frame so that you can work with\n",
    "df.dropna(inplace=True)\n",
    "df"
   ]
  },
  {
   "cell_type": "code",
   "execution_count": null,
   "metadata": {},
   "outputs": [],
   "source": [
    "df.reset_index(drop=True, inplace=True)\n",
    "df"
   ]
  },
  {
   "cell_type": "code",
   "execution_count": null,
   "metadata": {},
   "outputs": [],
   "source": [
    "from collections import defaultdict\n",
    "\n",
    "def tally_column_counts(df: pd.DataFrame) -> dict:\n",
    "    \"\"\"\n",
    "    Tallies the counts of all unique values that appear in each column of the DataFrame.\n",
    "    \n",
    "    Parameters:\n",
    "    df (pd.DataFrame): The DataFrame to analyze.\n",
    "\n",
    "    Returns:\n",
    "    dict: A dictionary where each key is a column name, and each value is a Series\n",
    "          showing the counts of each unique value in that column.\n",
    "    \"\"\"\n",
    "    counts_dict = {}\n",
    "    for column in df.columns:\n",
    "        counts_dict[column] = df[column].value_counts()\n",
    "    return counts_dict"
   ]
  },
  {
   "cell_type": "code",
   "execution_count": null,
   "metadata": {},
   "outputs": [],
   "source": [
    "tally_column_counts(df)"
   ]
  },
  {
   "cell_type": "code",
   "execution_count": null,
   "metadata": {},
   "outputs": [],
   "source": [
    "df[\"outcome\"] = df[\"outcome\"].map({\"Alive\": 1, \"Dead\": 0})\n",
    "#need to convert the alive dead to a binary outcome for the function to work\n"
   ]
  },
  {
   "cell_type": "markdown",
   "metadata": {},
   "source": [
    "## Smoking analysis\n",
    "Let's first check what your cousin did."
   ]
  },
  {
   "cell_type": "code",
   "execution_count": null,
   "metadata": {},
   "outputs": [],
   "source": [
    "# TODO: Reimplement the small code snippet described in the problem set instructions.\n",
    "df.groupby([\"smoker\"]).agg(prob_dead=(\"outcome\", \"mean\")).reset_index() #had to reset the index as was automatically multiindex"
   ]
  },
  {
   "cell_type": "markdown",
   "metadata": {},
   "source": [
    "You should get the same results."
   ]
  },
  {
   "cell_type": "markdown",
   "metadata": {},
   "source": [
    "# Is smoking really good?\n",
    "Now it is up to you to run the analysis further and check what could be underlying your cousings results."
   ]
  }
 ],
 "metadata": {
  "kernelspec": {
   "display_name": "smoke",
   "language": "python",
   "name": "python3"
  },
  "language_info": {
   "codemirror_mode": {
    "name": "ipython",
    "version": 3
   },
   "file_extension": ".py",
   "mimetype": "text/x-python",
   "name": "python",
   "nbconvert_exporter": "python",
   "pygments_lexer": "ipython3",
   "version": "3.11.10"
  }
 },
 "nbformat": 4,
 "nbformat_minor": 2
}
